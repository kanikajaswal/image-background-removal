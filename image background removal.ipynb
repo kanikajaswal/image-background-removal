{
 "cells": [
  {
   "cell_type": "code",
   "execution_count": 22,
   "id": "1d3ba629",
   "metadata": {},
   "outputs": [
    {
     "data": {
      "text/plain": [
       "array([[[128,  93,  60],\n",
       "        [128,  93,  60],\n",
       "        [128,  93,  60],\n",
       "        ...,\n",
       "        [ 70,  40,  13],\n",
       "        [ 70,  40,  13],\n",
       "        [ 70,  40,  13]],\n",
       "\n",
       "       [[128,  93,  60],\n",
       "        [128,  93,  60],\n",
       "        [128,  93,  60],\n",
       "        ...,\n",
       "        [ 70,  40,  13],\n",
       "        [ 70,  40,  13],\n",
       "        [ 70,  40,  13]],\n",
       "\n",
       "       [[128,  93,  60],\n",
       "        [128,  93,  60],\n",
       "        [128,  93,  60],\n",
       "        ...,\n",
       "        [ 70,  40,  13],\n",
       "        [ 70,  40,  13],\n",
       "        [ 70,  40,  13]],\n",
       "\n",
       "       ...,\n",
       "\n",
       "       [[160,  41, 179],\n",
       "        [160,  41, 179],\n",
       "        [160,  41, 179],\n",
       "        ...,\n",
       "        [ 88, 152, 207],\n",
       "        [ 88, 152, 207],\n",
       "        [ 88, 152, 207]],\n",
       "\n",
       "       [[160,  41, 179],\n",
       "        [160,  41, 179],\n",
       "        [160,  41, 179],\n",
       "        ...,\n",
       "        [ 86, 150, 205],\n",
       "        [ 86, 150, 205],\n",
       "        [ 86, 150, 205]],\n",
       "\n",
       "       [[160,  41, 179],\n",
       "        [160,  41, 179],\n",
       "        [160,  41, 179],\n",
       "        ...,\n",
       "        [ 86, 150, 205],\n",
       "        [ 86, 150, 205],\n",
       "        [ 86, 150, 205]]], dtype=uint8)"
      ]
     },
     "execution_count": 22,
     "metadata": {},
     "output_type": "execute_result"
    }
   ],
   "source": [
    "import pixellib\n",
    "from pixellib.tune_bg import alter_bg\n",
    "\n",
    "change_bg = alter_bg()\n",
    "change_bg.load_pascalvoc_model(\"C:\\\\Users\\my pc\\Downloads\\\\deeplabv3_xception_tf_dim_ordering_tf_kernels.h5\")\n",
    "change_bg.change_bg_img(f_image_path = \"C:\\\\Users\\my pc\\Downloads\\\\view3.jpeg\",b_image_path=\"C:\\\\Users\\my pc\\Downloads\\Datasets\\\\iii.jpeg\",output_image_name=\"new_img.jpg\")"
   ]
  },
  {
   "cell_type": "code",
   "execution_count": null,
   "id": "f5ec6d42",
   "metadata": {},
   "outputs": [],
   "source": []
  },
  {
   "cell_type": "code",
   "execution_count": null,
   "id": "5f2d4e34",
   "metadata": {},
   "outputs": [],
   "source": []
  },
  {
   "cell_type": "code",
   "execution_count": null,
   "id": "50508939",
   "metadata": {},
   "outputs": [],
   "source": []
  }
 ],
 "metadata": {
  "kernelspec": {
   "display_name": "Python 3",
   "language": "python",
   "name": "python3"
  },
  "language_info": {
   "codemirror_mode": {
    "name": "ipython",
    "version": 3
   },
   "file_extension": ".py",
   "mimetype": "text/x-python",
   "name": "python",
   "nbconvert_exporter": "python",
   "pygments_lexer": "ipython3",
   "version": "3.8.8"
  }
 },
 "nbformat": 4,
 "nbformat_minor": 5
}
